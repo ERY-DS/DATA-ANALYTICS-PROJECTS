{
 "cells": [
  {
   "cell_type": "markdown",
   "id": "2b949bd8",
   "metadata": {
    "papermill": {
     "duration": 0.016893,
     "end_time": "2022-03-15T19:11:16.570764",
     "exception": false,
     "start_time": "2022-03-15T19:11:16.553871",
     "status": "completed"
    },
    "tags": []
   },
   "source": [
    "# Reporting on sales data\n",
    "\n",
    "Now let's now move on to the competition and challenge.\n",
    "\n",
    "## 📖 Background\n",
    "You work in the accounting department of a company that sells motorcycle parts. The company operates three warehouses in a large metropolitan area.\n",
    "\n",
    "You’ve recently learned data manipulation and plotting, and suggest helping your colleague analyze past sales data. Your colleague wants to capture sales by payment method. She also needs to know the average unit price for each product line."
   ]
  },
  {
   "cell_type": "markdown",
   "id": "7c98e922",
   "metadata": {
    "papermill": {
     "duration": 0.014741,
     "end_time": "2022-03-15T19:11:16.601124",
     "exception": false,
     "start_time": "2022-03-15T19:11:16.586383",
     "status": "completed"
    },
    "tags": []
   },
   "source": [
    "## 💾 The data\n",
    "\n",
    "#### The sales data has the following fields:\n",
    "- \"date\" - The date, from June to August 2021.\n",
    "- \"warehouse\" - The company operates three warehouses: North, Central, and West.\n",
    "- \"client_type\" - There are two types of customers: Retail and Wholesale.\n",
    "- \"product_line\" - Type of products purchased.\n",
    "- \"quantity\" - How many items were purchased.\n",
    "- \"unit_price\" - Price per item sold.\n",
    "- \"total\" - Total sale = quantity * unit_price.\n",
    "- \"payment\" - How the client paid: Cash, Credit card, Transfer."
   ]
  },
  {
   "cell_type": "code",
   "execution_count": 1,
   "id": "17c4df80",
   "metadata": {
    "execution": {
     "iopub.execute_input": "2022-03-15T19:11:16.637483Z",
     "iopub.status.busy": "2022-03-15T19:11:16.636238Z",
     "iopub.status.idle": "2022-03-15T19:11:16.698349Z",
     "shell.execute_reply": "2022-03-15T19:11:16.698867Z",
     "shell.execute_reply.started": "2022-02-09T13:56:56.467088Z"
    },
    "papermill": {
     "duration": 0.081887,
     "end_time": "2022-03-15T19:11:16.699173",
     "exception": false,
     "start_time": "2022-03-15T19:11:16.617286",
     "status": "completed"
    },
    "tags": []
   },
   "outputs": [
    {
     "data": {
      "text/html": [
       "<div>\n",
       "<style scoped>\n",
       "    .dataframe tbody tr th:only-of-type {\n",
       "        vertical-align: middle;\n",
       "    }\n",
       "\n",
       "    .dataframe tbody tr th {\n",
       "        vertical-align: top;\n",
       "    }\n",
       "\n",
       "    .dataframe thead th {\n",
       "        text-align: right;\n",
       "    }\n",
       "</style>\n",
       "<table border=\"1\" class=\"dataframe\">\n",
       "  <thead>\n",
       "    <tr style=\"text-align: right;\">\n",
       "      <th></th>\n",
       "      <th>date</th>\n",
       "      <th>warehouse</th>\n",
       "      <th>client_type</th>\n",
       "      <th>product_line</th>\n",
       "      <th>quantity</th>\n",
       "      <th>unit_price</th>\n",
       "      <th>total</th>\n",
       "      <th>payment</th>\n",
       "    </tr>\n",
       "  </thead>\n",
       "  <tbody>\n",
       "    <tr>\n",
       "      <th>0</th>\n",
       "      <td>2021-06-01</td>\n",
       "      <td>Central</td>\n",
       "      <td>Retail</td>\n",
       "      <td>Miscellaneous</td>\n",
       "      <td>8</td>\n",
       "      <td>16.85</td>\n",
       "      <td>134.83</td>\n",
       "      <td>Credit card</td>\n",
       "    </tr>\n",
       "    <tr>\n",
       "      <th>1</th>\n",
       "      <td>2021-06-01</td>\n",
       "      <td>North</td>\n",
       "      <td>Retail</td>\n",
       "      <td>Breaking system</td>\n",
       "      <td>9</td>\n",
       "      <td>19.29</td>\n",
       "      <td>173.61</td>\n",
       "      <td>Cash</td>\n",
       "    </tr>\n",
       "    <tr>\n",
       "      <th>2</th>\n",
       "      <td>2021-06-01</td>\n",
       "      <td>North</td>\n",
       "      <td>Retail</td>\n",
       "      <td>Suspension &amp; traction</td>\n",
       "      <td>8</td>\n",
       "      <td>32.93</td>\n",
       "      <td>263.45</td>\n",
       "      <td>Credit card</td>\n",
       "    </tr>\n",
       "    <tr>\n",
       "      <th>3</th>\n",
       "      <td>2021-06-01</td>\n",
       "      <td>North</td>\n",
       "      <td>Wholesale</td>\n",
       "      <td>Frame &amp; body</td>\n",
       "      <td>16</td>\n",
       "      <td>37.84</td>\n",
       "      <td>605.44</td>\n",
       "      <td>Transfer</td>\n",
       "    </tr>\n",
       "    <tr>\n",
       "      <th>4</th>\n",
       "      <td>2021-06-01</td>\n",
       "      <td>Central</td>\n",
       "      <td>Retail</td>\n",
       "      <td>Engine</td>\n",
       "      <td>2</td>\n",
       "      <td>60.48</td>\n",
       "      <td>120.96</td>\n",
       "      <td>Credit card</td>\n",
       "    </tr>\n",
       "  </tbody>\n",
       "</table>\n",
       "</div>"
      ],
      "text/plain": [
       "        date warehouse client_type           product_line  quantity  \\\n",
       "0 2021-06-01   Central      Retail          Miscellaneous         8   \n",
       "1 2021-06-01     North      Retail        Breaking system         9   \n",
       "2 2021-06-01     North      Retail  Suspension & traction         8   \n",
       "3 2021-06-01     North   Wholesale           Frame & body        16   \n",
       "4 2021-06-01   Central      Retail                 Engine         2   \n",
       "\n",
       "   unit_price   total      payment  \n",
       "0       16.85  134.83  Credit card  \n",
       "1       19.29  173.61         Cash  \n",
       "2       32.93  263.45  Credit card  \n",
       "3       37.84  605.44     Transfer  \n",
       "4       60.48  120.96  Credit card  "
      ]
     },
     "execution_count": 1,
     "metadata": {},
     "output_type": "execute_result"
    }
   ],
   "source": [
    "# Importing the pandas module\n",
    "import pandas as pd\n",
    "\n",
    "# Reading in the sales data\n",
    "df = pd.read_csv('../input/motorcycle-parts/sales_data.csv', parse_dates=['date'])\n",
    "\n",
    "# Take a look at the first datapoints\n",
    "df.head()\n"
   ]
  },
  {
   "cell_type": "markdown",
   "id": "5a6a877a",
   "metadata": {
    "papermill": {
     "duration": 0.015386,
     "end_time": "2022-03-15T19:11:16.730523",
     "exception": false,
     "start_time": "2022-03-15T19:11:16.715137",
     "status": "completed"
    },
    "tags": []
   },
   "source": [
    "\n",
    "\n",
    "**Find the total sales for each warehouse** \n",
    "\n",
    "We can use `groupby` to group the information by the column \"warehouse\". Then we select the column \"total\" and use `.sum()` to add the \"total\" column for each warehouse:"
   ]
  },
  {
   "cell_type": "code",
   "execution_count": 2,
   "id": "218855a9",
   "metadata": {
    "execution": {
     "iopub.execute_input": "2022-03-15T19:11:16.768800Z",
     "iopub.status.busy": "2022-03-15T19:11:16.768089Z",
     "iopub.status.idle": "2022-03-15T19:11:16.788170Z",
     "shell.execute_reply": "2022-03-15T19:11:16.788675Z",
     "shell.execute_reply.started": "2022-02-09T13:56:56.54092Z"
    },
    "papermill": {
     "duration": 0.042895,
     "end_time": "2022-03-15T19:11:16.788866",
     "exception": false,
     "start_time": "2022-03-15T19:11:16.745971",
     "status": "completed"
    },
    "tags": []
   },
   "outputs": [
    {
     "data": {
      "text/html": [
       "<div>\n",
       "<style scoped>\n",
       "    .dataframe tbody tr th:only-of-type {\n",
       "        vertical-align: middle;\n",
       "    }\n",
       "\n",
       "    .dataframe tbody tr th {\n",
       "        vertical-align: top;\n",
       "    }\n",
       "\n",
       "    .dataframe thead th {\n",
       "        text-align: right;\n",
       "    }\n",
       "</style>\n",
       "<table border=\"1\" class=\"dataframe\">\n",
       "  <thead>\n",
       "    <tr style=\"text-align: right;\">\n",
       "      <th></th>\n",
       "      <th></th>\n",
       "      <th>total</th>\n",
       "    </tr>\n",
       "    <tr>\n",
       "      <th>warehouse</th>\n",
       "      <th>client_type</th>\n",
       "      <th></th>\n",
       "    </tr>\n",
       "  </thead>\n",
       "  <tbody>\n",
       "    <tr>\n",
       "      <th rowspan=\"2\" valign=\"top\">Central</th>\n",
       "      <th>Retail</th>\n",
       "      <td>63126.12</td>\n",
       "    </tr>\n",
       "    <tr>\n",
       "      <th>Wholesale</th>\n",
       "      <td>78856.76</td>\n",
       "    </tr>\n",
       "    <tr>\n",
       "      <th rowspan=\"2\" valign=\"top\">North</th>\n",
       "      <th>Retail</th>\n",
       "      <td>42137.36</td>\n",
       "    </tr>\n",
       "    <tr>\n",
       "      <th>Wholesale</th>\n",
       "      <td>58066.27</td>\n",
       "    </tr>\n",
       "    <tr>\n",
       "      <th rowspan=\"2\" valign=\"top\">West</th>\n",
       "      <th>Retail</th>\n",
       "      <td>24207.19</td>\n",
       "    </tr>\n",
       "    <tr>\n",
       "      <th>Wholesale</th>\n",
       "      <td>22719.30</td>\n",
       "    </tr>\n",
       "  </tbody>\n",
       "</table>\n",
       "</div>"
      ],
      "text/plain": [
       "                          total\n",
       "warehouse client_type          \n",
       "Central   Retail       63126.12\n",
       "          Wholesale    78856.76\n",
       "North     Retail       42137.36\n",
       "          Wholesale    58066.27\n",
       "West      Retail       24207.19\n",
       "          Wholesale    22719.30"
      ]
     },
     "execution_count": 2,
     "metadata": {},
     "output_type": "execute_result"
    }
   ],
   "source": [
    "#the warehouses with the highest amount of total sales according to client type\n",
    "warehouse_highest_salesType= df.groupby(['warehouse','client_type'])[['total']].sum()\n",
    "warehouse_highest_salesType\n",
    "\n"
   ]
  },
  {
   "cell_type": "code",
   "execution_count": 3,
   "id": "866d3c99",
   "metadata": {
    "execution": {
     "iopub.execute_input": "2022-03-15T19:11:16.825540Z",
     "iopub.status.busy": "2022-03-15T19:11:16.824518Z",
     "iopub.status.idle": "2022-03-15T19:11:16.836222Z",
     "shell.execute_reply": "2022-03-15T19:11:16.836710Z",
     "shell.execute_reply.started": "2022-02-09T13:56:56.573083Z"
    },
    "papermill": {
     "duration": 0.031792,
     "end_time": "2022-03-15T19:11:16.836890",
     "exception": false,
     "start_time": "2022-03-15T19:11:16.805098",
     "status": "completed"
    },
    "tags": []
   },
   "outputs": [
    {
     "data": {
      "text/html": [
       "<div>\n",
       "<style scoped>\n",
       "    .dataframe tbody tr th:only-of-type {\n",
       "        vertical-align: middle;\n",
       "    }\n",
       "\n",
       "    .dataframe tbody tr th {\n",
       "        vertical-align: top;\n",
       "    }\n",
       "\n",
       "    .dataframe thead th {\n",
       "        text-align: right;\n",
       "    }\n",
       "</style>\n",
       "<table border=\"1\" class=\"dataframe\">\n",
       "  <thead>\n",
       "    <tr style=\"text-align: right;\">\n",
       "      <th></th>\n",
       "      <th>total</th>\n",
       "    </tr>\n",
       "    <tr>\n",
       "      <th>warehouse</th>\n",
       "      <th></th>\n",
       "    </tr>\n",
       "  </thead>\n",
       "  <tbody>\n",
       "    <tr>\n",
       "      <th>Central</th>\n",
       "      <td>141982.88</td>\n",
       "    </tr>\n",
       "    <tr>\n",
       "      <th>North</th>\n",
       "      <td>100203.63</td>\n",
       "    </tr>\n",
       "    <tr>\n",
       "      <th>West</th>\n",
       "      <td>46926.49</td>\n",
       "    </tr>\n",
       "  </tbody>\n",
       "</table>\n",
       "</div>"
      ],
      "text/plain": [
       "               total\n",
       "warehouse           \n",
       "Central    141982.88\n",
       "North      100203.63\n",
       "West        46926.49"
      ]
     },
     "execution_count": 3,
     "metadata": {},
     "output_type": "execute_result"
    }
   ],
   "source": [
    "#the warehouses with the highest amount of total sales\n",
    "warehouse_highest_sales= df.groupby(['warehouse'])[['total']].sum()\n",
    "warehouse_highest_sales"
   ]
  },
  {
   "cell_type": "code",
   "execution_count": 4,
   "id": "dfdbed8b",
   "metadata": {
    "execution": {
     "iopub.execute_input": "2022-03-15T19:11:16.875984Z",
     "iopub.status.busy": "2022-03-15T19:11:16.875057Z",
     "iopub.status.idle": "2022-03-15T19:11:17.137574Z",
     "shell.execute_reply": "2022-03-15T19:11:17.137023Z",
     "shell.execute_reply.started": "2022-02-09T13:56:56.590716Z"
    },
    "papermill": {
     "duration": 0.284356,
     "end_time": "2022-03-15T19:11:17.137736",
     "exception": false,
     "start_time": "2022-03-15T19:11:16.853380",
     "status": "completed"
    },
    "tags": []
   },
   "outputs": [
    {
     "data": {
      "text/plain": [
       "<AxesSubplot:xlabel='warehouse'>"
      ]
     },
     "execution_count": 4,
     "metadata": {},
     "output_type": "execute_result"
    },
    {
     "data": {
      "image/png": "[encoded data removed]",
      "text/plain": [
       "<Figure size 432x288 with 1 Axes>"
      ]
     },
     "metadata": {
      "needs_background": "light"
     },
     "output_type": "display_data"
    }
   ],
   "source": [
    "warehouse_highest_sales.plot(kind='bar')"
   ]
  },
  {
   "cell_type": "markdown",
   "id": "3c201287",
   "metadata": {
    "papermill": {
     "duration": 0.017505,
     "end_time": "2022-03-15T19:11:17.173143",
     "exception": false,
     "start_time": "2022-03-15T19:11:17.155638",
     "status": "completed"
    },
    "tags": []
   },
   "source": [
    "**Which of the Client Type sells more quantity?**"
   ]
  },
  {
   "cell_type": "code",
   "execution_count": 5,
   "id": "74a28de9",
   "metadata": {
    "execution": {
     "iopub.execute_input": "2022-03-15T19:11:17.328006Z",
     "iopub.status.busy": "2022-03-15T19:11:17.327318Z",
     "iopub.status.idle": "2022-03-15T19:11:17.476439Z",
     "shell.execute_reply": "2022-03-15T19:11:17.477135Z",
     "shell.execute_reply.started": "2022-02-09T13:56:56.902323Z"
    },
    "papermill": {
     "duration": 0.286483,
     "end_time": "2022-03-15T19:11:17.477337",
     "exception": false,
     "start_time": "2022-03-15T19:11:17.190854",
     "status": "completed"
    },
    "tags": []
   },
   "outputs": [
    {
     "data": {
      "image/png": "[encoded data removed]",
      "text/plain": [
       "<Figure size 432x288 with 1 Axes>"
      ]
     },
     "metadata": {
      "needs_background": "light"
     },
     "output_type": "display_data"
    }
   ],
   "source": [
    "import matplotlib.pyplot as plt\n",
    "\n",
    "avg_units_client_type = df.groupby('client_type')['quantity'].mean()\n",
    "avg_units_client_type.plot(kind='barh')\n",
    "plt.show()"
   ]
  },
  {
   "cell_type": "markdown",
   "id": "4d845709",
   "metadata": {
    "papermill": {
     "duration": 0.018495,
     "end_time": "2022-03-15T19:11:17.514299",
     "exception": false,
     "start_time": "2022-03-15T19:11:17.495804",
     "status": "completed"
    },
    "tags": []
   },
   "source": [
    "**_the client type that makes more salesjudged by the average purchase value _**"
   ]
  },
  {
   "cell_type": "code",
   "execution_count": 6,
   "id": "54375c4e",
   "metadata": {
    "execution": {
     "iopub.execute_input": "2022-03-15T19:11:17.555887Z",
     "iopub.status.busy": "2022-03-15T19:11:17.555177Z",
     "iopub.status.idle": "2022-03-15T19:11:17.565400Z",
     "shell.execute_reply": "2022-03-15T19:11:17.565990Z",
     "shell.execute_reply.started": "2022-02-09T13:56:57.189041Z"
    },
    "papermill": {
     "duration": 0.033314,
     "end_time": "2022-03-15T19:11:17.566169",
     "exception": false,
     "start_time": "2022-03-15T19:11:17.532855",
     "status": "completed"
    },
    "tags": []
   },
   "outputs": [
    {
     "data": {
      "text/html": [
       "<div>\n",
       "<style scoped>\n",
       "    .dataframe tbody tr th:only-of-type {\n",
       "        vertical-align: middle;\n",
       "    }\n",
       "\n",
       "    .dataframe tbody tr th {\n",
       "        vertical-align: top;\n",
       "    }\n",
       "\n",
       "    .dataframe thead th {\n",
       "        text-align: right;\n",
       "    }\n",
       "</style>\n",
       "<table border=\"1\" class=\"dataframe\">\n",
       "  <thead>\n",
       "    <tr style=\"text-align: right;\">\n",
       "      <th></th>\n",
       "      <th>total</th>\n",
       "    </tr>\n",
       "    <tr>\n",
       "      <th>client_type</th>\n",
       "      <th></th>\n",
       "    </tr>\n",
       "  </thead>\n",
       "  <tbody>\n",
       "    <tr>\n",
       "      <th>Retail</th>\n",
       "      <td>167.058929</td>\n",
       "    </tr>\n",
       "    <tr>\n",
       "      <th>Wholesale</th>\n",
       "      <td>709.521467</td>\n",
       "    </tr>\n",
       "  </tbody>\n",
       "</table>\n",
       "</div>"
      ],
      "text/plain": [
       "                  total\n",
       "client_type            \n",
       "Retail       167.058929\n",
       "Wholesale    709.521467"
      ]
     },
     "execution_count": 6,
     "metadata": {},
     "output_type": "execute_result"
    }
   ],
   "source": [
    "#average purchase value by client type\n",
    "avgupurtotal_client=df.groupby('client_type')[['total']].mean()\n",
    "avgupurtotal_client.head()\n"
   ]
  },
  {
   "cell_type": "code",
   "execution_count": 7,
   "id": "2ca9a0ea",
   "metadata": {
    "execution": {
     "iopub.execute_input": "2022-03-15T19:11:17.607252Z",
     "iopub.status.busy": "2022-03-15T19:11:17.606605Z",
     "iopub.status.idle": "2022-03-15T19:11:17.765376Z",
     "shell.execute_reply": "2022-03-15T19:11:17.765959Z",
     "shell.execute_reply.started": "2022-02-09T13:56:57.206574Z"
    },
    "papermill": {
     "duration": 0.181125,
     "end_time": "2022-03-15T19:11:17.766150",
     "exception": false,
     "start_time": "2022-03-15T19:11:17.585025",
     "status": "completed"
    },
    "tags": []
   },
   "outputs": [
    {
     "data": {
      "image/png": "[encoded data removed]",
      "text/plain": [
       "<Figure size 432x288 with 1 Axes>"
      ]
     },
     "metadata": {
      "needs_background": "light"
     },
     "output_type": "display_data"
    }
   ],
   "source": [
    "#a bar horizontal chart that shows the purchase value by each client type\n",
    "fig, ax=plt.subplots()\n",
    "ax.bar(avgupurtotal_client.index,avgupurtotal_client['total'], color='orange')\n",
    "ax.set_xlabel('Client')\n",
    "ax.set_ylabel('Purchase Value')\n",
    "plt.show()"
   ]
  },
  {
   "cell_type": "markdown",
   "id": "bed8ade4",
   "metadata": {
    "papermill": {
     "duration": 0.019376,
     "end_time": "2022-03-15T19:11:17.805543",
     "exception": false,
     "start_time": "2022-03-15T19:11:17.786167",
     "status": "completed"
    },
    "tags": []
   },
   "source": [
    "**What are the total sales for each payment method?**"
   ]
  },
  {
   "cell_type": "code",
   "execution_count": 8,
   "id": "f02edcaf",
   "metadata": {
    "execution": {
     "iopub.execute_input": "2022-03-15T19:11:17.849686Z",
     "iopub.status.busy": "2022-03-15T19:11:17.848965Z",
     "iopub.status.idle": "2022-03-15T19:11:17.860354Z",
     "shell.execute_reply": "2022-03-15T19:11:17.861118Z",
     "shell.execute_reply.started": "2022-02-09T13:56:57.325801Z"
    },
    "papermill": {
     "duration": 0.03609,
     "end_time": "2022-03-15T19:11:17.861339",
     "exception": false,
     "start_time": "2022-03-15T19:11:17.825249",
     "status": "completed"
    },
    "tags": []
   },
   "outputs": [
    {
     "data": {
      "text/html": [
       "<div>\n",
       "<style scoped>\n",
       "    .dataframe tbody tr th:only-of-type {\n",
       "        vertical-align: middle;\n",
       "    }\n",
       "\n",
       "    .dataframe tbody tr th {\n",
       "        vertical-align: top;\n",
       "    }\n",
       "\n",
       "    .dataframe thead th {\n",
       "        text-align: right;\n",
       "    }\n",
       "</style>\n",
       "<table border=\"1\" class=\"dataframe\">\n",
       "  <thead>\n",
       "    <tr style=\"text-align: right;\">\n",
       "      <th></th>\n",
       "      <th>total</th>\n",
       "    </tr>\n",
       "    <tr>\n",
       "      <th>payment</th>\n",
       "      <th></th>\n",
       "    </tr>\n",
       "  </thead>\n",
       "  <tbody>\n",
       "    <tr>\n",
       "      <th>Cash</th>\n",
       "      <td>19199.10</td>\n",
       "    </tr>\n",
       "    <tr>\n",
       "      <th>Credit card</th>\n",
       "      <td>110271.57</td>\n",
       "    </tr>\n",
       "    <tr>\n",
       "      <th>Transfer</th>\n",
       "      <td>159642.33</td>\n",
       "    </tr>\n",
       "  </tbody>\n",
       "</table>\n",
       "</div>"
      ],
      "text/plain": [
       "                 total\n",
       "payment               \n",
       "Cash          19199.10\n",
       "Credit card  110271.57\n",
       "Transfer     159642.33"
      ]
     },
     "execution_count": 8,
     "metadata": {},
     "output_type": "execute_result"
    }
   ],
   "source": [
    "#total sales for each payment method\n",
    "Totalsales_eachPayment= df.groupby('payment')[['total']].sum()\n",
    "Totalsales_eachPayment"
   ]
  },
  {
   "cell_type": "code",
   "execution_count": 9,
   "id": "8da3b61a",
   "metadata": {
    "execution": {
     "iopub.execute_input": "2022-03-15T19:11:17.905954Z",
     "iopub.status.busy": "2022-03-15T19:11:17.904954Z",
     "iopub.status.idle": "2022-03-15T19:11:18.081013Z",
     "shell.execute_reply": "2022-03-15T19:11:18.080378Z",
     "shell.execute_reply.started": "2022-02-09T13:56:57.345295Z"
    },
    "papermill": {
     "duration": 0.199163,
     "end_time": "2022-03-15T19:11:18.081165",
     "exception": false,
     "start_time": "2022-03-15T19:11:17.882002",
     "status": "completed"
    },
    "tags": []
   },
   "outputs": [
    {
     "data": {
      "image/png": "[encoded data removed]",
      "text/plain": [
       "<Figure size 432x288 with 1 Axes>"
      ]
     },
     "metadata": {
      "needs_background": "light"
     },
     "output_type": "display_data"
    }
   ],
   "source": [
    "fig, ax=plt.subplots()\n",
    "ax.barh(Totalsales_eachPayment.index,Totalsales_eachPayment['total'], color='brown')\n",
    "ax.set_xlabel('Total')\n",
    "ax.set_ylabel('Payment Method')\n",
    "plt.show()"
   ]
  },
  {
   "cell_type": "markdown",
   "id": "aa2b4a17",
   "metadata": {
    "papermill": {
     "duration": 0.020437,
     "end_time": "2022-03-15T19:11:18.122518",
     "exception": false,
     "start_time": "2022-03-15T19:11:18.102081",
     "status": "completed"
    },
    "tags": []
   },
   "source": [
    "**What is the average unit price for each product line?**"
   ]
  },
  {
   "cell_type": "code",
   "execution_count": 10,
   "id": "266474fa",
   "metadata": {
    "execution": {
     "iopub.execute_input": "2022-03-15T19:11:18.178416Z",
     "iopub.status.busy": "2022-03-15T19:11:18.172820Z",
     "iopub.status.idle": "2022-03-15T19:11:18.182370Z",
     "shell.execute_reply": "2022-03-15T19:11:18.181803Z",
     "shell.execute_reply.started": "2022-02-09T13:56:57.477963Z"
    },
    "papermill": {
     "duration": 0.039139,
     "end_time": "2022-03-15T19:11:18.182521",
     "exception": false,
     "start_time": "2022-03-15T19:11:18.143382",
     "status": "completed"
    },
    "tags": []
   },
   "outputs": [
    {
     "data": {
      "text/html": [
       "<div>\n",
       "<style scoped>\n",
       "    .dataframe tbody tr th:only-of-type {\n",
       "        vertical-align: middle;\n",
       "    }\n",
       "\n",
       "    .dataframe tbody tr th {\n",
       "        vertical-align: top;\n",
       "    }\n",
       "\n",
       "    .dataframe thead th {\n",
       "        text-align: right;\n",
       "    }\n",
       "</style>\n",
       "<table border=\"1\" class=\"dataframe\">\n",
       "  <thead>\n",
       "    <tr style=\"text-align: right;\">\n",
       "      <th></th>\n",
       "      <th>unit_price</th>\n",
       "    </tr>\n",
       "    <tr>\n",
       "      <th>product_line</th>\n",
       "      <th></th>\n",
       "    </tr>\n",
       "  </thead>\n",
       "  <tbody>\n",
       "    <tr>\n",
       "      <th>Breaking system</th>\n",
       "      <td>17.740522</td>\n",
       "    </tr>\n",
       "    <tr>\n",
       "      <th>Electrical system</th>\n",
       "      <td>25.585130</td>\n",
       "    </tr>\n",
       "    <tr>\n",
       "      <th>Engine</th>\n",
       "      <td>60.091803</td>\n",
       "    </tr>\n",
       "    <tr>\n",
       "      <th>Frame &amp; body</th>\n",
       "      <td>42.832229</td>\n",
       "    </tr>\n",
       "    <tr>\n",
       "      <th>Miscellaneous</th>\n",
       "      <td>22.810738</td>\n",
       "    </tr>\n",
       "    <tr>\n",
       "      <th>Suspension &amp; traction</th>\n",
       "      <td>33.969868</td>\n",
       "    </tr>\n",
       "  </tbody>\n",
       "</table>\n",
       "</div>"
      ],
      "text/plain": [
       "                       unit_price\n",
       "product_line                     \n",
       "Breaking system         17.740522\n",
       "Electrical system       25.585130\n",
       "Engine                  60.091803\n",
       "Frame & body            42.832229\n",
       "Miscellaneous           22.810738\n",
       "Suspension & traction   33.969868"
      ]
     },
     "execution_count": 10,
     "metadata": {},
     "output_type": "execute_result"
    }
   ],
   "source": [
    "#the average unit price for each product line\n",
    "avgunitprice_eachpl=df.groupby('product_line')[['unit_price']].mean()\n",
    "avgunitprice_eachpl"
   ]
  },
  {
   "cell_type": "code",
   "execution_count": 11,
   "id": "6035e411",
   "metadata": {
    "execution": {
     "iopub.execute_input": "2022-03-15T19:11:18.228824Z",
     "iopub.status.busy": "2022-03-15T19:11:18.228004Z",
     "iopub.status.idle": "2022-03-15T19:11:18.423086Z",
     "shell.execute_reply": "2022-03-15T19:11:18.422529Z",
     "shell.execute_reply.started": "2022-02-09T13:56:57.496748Z"
    },
    "papermill": {
     "duration": 0.21958,
     "end_time": "2022-03-15T19:11:18.423226",
     "exception": false,
     "start_time": "2022-03-15T19:11:18.203646",
     "status": "completed"
    },
    "tags": []
   },
   "outputs": [
    {
     "name": "stderr",
     "output_type": "stream",
     "text": [
      "/opt/conda/lib/python3.7/site-packages/ipykernel_launcher.py:3: UserWarning: FixedFormatter should only be used together with FixedLocator\n",
      "  This is separate from the ipykernel package so we can avoid doing imports until\n"
     ]
    },
    {
     "data": {
      "image/png": "[encoded data removed]",
      "text/plain": [
       "<Figure size 432x288 with 1 Axes>"
      ]
     },
     "metadata": {
      "needs_background": "light"
     },
     "output_type": "display_data"
    }
   ],
   "source": [
    "fig, ax=plt.subplots()\n",
    "ax.bar(avgunitprice_eachpl.index,avgunitprice_eachpl['unit_price'], color='red')\n",
    "ax.set_xticklabels(avgunitprice_eachpl.index, rotation=45)\n",
    "ax.set_xlabel('Product Lines')\n",
    "ax.set_ylabel('Unit Price')\n",
    "plt.show()"
   ]
  },
  {
   "cell_type": "markdown",
   "id": "d06e4b3e",
   "metadata": {
    "papermill": {
     "duration": 0.022341,
     "end_time": "2022-03-15T19:11:18.468449",
     "exception": false,
     "start_time": "2022-03-15T19:11:18.446108",
     "status": "completed"
    },
    "tags": []
   },
   "source": [
    "**Total purchase value by product line**"
   ]
  },
  {
   "cell_type": "code",
   "execution_count": 12,
   "id": "23f697cd",
   "metadata": {
    "execution": {
     "iopub.execute_input": "2022-03-15T19:11:18.522173Z",
     "iopub.status.busy": "2022-03-15T19:11:18.520730Z",
     "iopub.status.idle": "2022-03-15T19:11:18.528201Z",
     "shell.execute_reply": "2022-03-15T19:11:18.528778Z",
     "shell.execute_reply.started": "2022-02-09T13:56:57.65409Z"
    },
    "papermill": {
     "duration": 0.037613,
     "end_time": "2022-03-15T19:11:18.528966",
     "exception": false,
     "start_time": "2022-03-15T19:11:18.491353",
     "status": "completed"
    },
    "tags": []
   },
   "outputs": [
    {
     "data": {
      "text/html": [
       "<div>\n",
       "<style scoped>\n",
       "    .dataframe tbody tr th:only-of-type {\n",
       "        vertical-align: middle;\n",
       "    }\n",
       "\n",
       "    .dataframe tbody tr th {\n",
       "        vertical-align: top;\n",
       "    }\n",
       "\n",
       "    .dataframe thead th {\n",
       "        text-align: right;\n",
       "    }\n",
       "</style>\n",
       "<table border=\"1\" class=\"dataframe\">\n",
       "  <thead>\n",
       "    <tr style=\"text-align: right;\">\n",
       "      <th></th>\n",
       "      <th>total</th>\n",
       "    </tr>\n",
       "    <tr>\n",
       "      <th>product_line</th>\n",
       "      <th></th>\n",
       "    </tr>\n",
       "  </thead>\n",
       "  <tbody>\n",
       "    <tr>\n",
       "      <th>Breaking system</th>\n",
       "      <td>38350.15</td>\n",
       "    </tr>\n",
       "    <tr>\n",
       "      <th>Electrical system</th>\n",
       "      <td>43612.71</td>\n",
       "    </tr>\n",
       "    <tr>\n",
       "      <th>Engine</th>\n",
       "      <td>37945.38</td>\n",
       "    </tr>\n",
       "    <tr>\n",
       "      <th>Frame &amp; body</th>\n",
       "      <td>69024.73</td>\n",
       "    </tr>\n",
       "    <tr>\n",
       "      <th>Miscellaneous</th>\n",
       "      <td>27165.82</td>\n",
       "    </tr>\n",
       "    <tr>\n",
       "      <th>Suspension &amp; traction</th>\n",
       "      <td>73014.21</td>\n",
       "    </tr>\n",
       "  </tbody>\n",
       "</table>\n",
       "</div>"
      ],
      "text/plain": [
       "                          total\n",
       "product_line                   \n",
       "Breaking system        38350.15\n",
       "Electrical system      43612.71\n",
       "Engine                 37945.38\n",
       "Frame & body           69024.73\n",
       "Miscellaneous          27165.82\n",
       "Suspension & traction  73014.21"
      ]
     },
     "execution_count": 12,
     "metadata": {},
     "output_type": "execute_result"
    }
   ],
   "source": [
    "#Which Product line makes more money\n",
    "TotalProductLine_value= df.groupby('product_line')[['total']].sum()\n",
    "TotalProductLine_value"
   ]
  },
  {
   "cell_type": "markdown",
   "id": "14e288f1",
   "metadata": {
    "papermill": {
     "duration": 0.022544,
     "end_time": "2022-03-15T19:11:18.574560",
     "exception": false,
     "start_time": "2022-03-15T19:11:18.552016",
     "status": "completed"
    },
    "tags": []
   },
   "source": [
    "**Summary and Remarks**\n",
    "\n",
    "1.\tThe Central Warehouse is doing better in respect to the sales they made.\n",
    "2.\tIn all the warehouses except the West, wholesale unit is doing better than the retail unit.However, \tgenerally, the wholesale client type is really pulling weight that the retail.\n",
    "3.\tThe most efficient and commonly used mode of payment is the transfer, followed by Credit cards.\n",
    "4. \tAlthough the Engine product line has the highest unit price, the frame and body has the highest purchase value.\n"
   ]
  }
 ],
 "metadata": {
  "kernelspec": {
   "display_name": "Python 3",
   "language": "python",
   "name": "python3"
  },
  "language_info": {
   "codemirror_mode": {
    "name": "ipython",
    "version": 3
   },
   "file_extension": ".py",
   "mimetype": "text/x-python",
   "name": "python",
   "nbconvert_exporter": "python",
   "pygments_lexer": "ipython3",
   "version": "3.7.12"
  },
  "papermill": {
   "default_parameters": {},
   "duration": 12.761022,
   "end_time": "2022-03-15T19:11:19.308486",
   "environment_variables": {},
   "exception": null,
   "input_path": "__notebook__.ipynb",
   "output_path": "__notebook__.ipynb",
   "parameters": {},
   "start_time": "2022-03-15T19:11:06.547464",
   "version": "2.3.3"
  }
 },
 "nbformat": 4,
 "nbformat_minor": 5
}
